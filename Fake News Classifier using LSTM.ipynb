{
 "cells": [
  {
   "cell_type": "code",
   "execution_count": 1,
   "id": "e017ba7c-8418-4dd7-9d5a-1ac863037020",
   "metadata": {},
   "outputs": [],
   "source": [
    "import pandas as pd"
   ]
  },
  {
   "cell_type": "code",
   "execution_count": 2,
   "id": "58241e2d-6a4b-4d7e-b191-a1b13c30c52a",
   "metadata": {},
   "outputs": [
    {
     "data": {
      "text/html": [
       "<div>\n",
       "<style scoped>\n",
       "    .dataframe tbody tr th:only-of-type {\n",
       "        vertical-align: middle;\n",
       "    }\n",
       "\n",
       "    .dataframe tbody tr th {\n",
       "        vertical-align: top;\n",
       "    }\n",
       "\n",
       "    .dataframe thead th {\n",
       "        text-align: right;\n",
       "    }\n",
       "</style>\n",
       "<table border=\"1\" class=\"dataframe\">\n",
       "  <thead>\n",
       "    <tr style=\"text-align: right;\">\n",
       "      <th></th>\n",
       "      <th>id</th>\n",
       "      <th>title</th>\n",
       "      <th>author</th>\n",
       "      <th>text</th>\n",
       "      <th>label</th>\n",
       "    </tr>\n",
       "  </thead>\n",
       "  <tbody>\n",
       "    <tr>\n",
       "      <th>0</th>\n",
       "      <td>0</td>\n",
       "      <td>House Dem Aide: We Didn’t Even See Comey’s Let...</td>\n",
       "      <td>Darrell Lucus</td>\n",
       "      <td>House Dem Aide: We Didn’t Even See Comey’s Let...</td>\n",
       "      <td>1</td>\n",
       "    </tr>\n",
       "    <tr>\n",
       "      <th>1</th>\n",
       "      <td>1</td>\n",
       "      <td>FLYNN: Hillary Clinton, Big Woman on Campus - ...</td>\n",
       "      <td>Daniel J. Flynn</td>\n",
       "      <td>Ever get the feeling your life circles the rou...</td>\n",
       "      <td>0</td>\n",
       "    </tr>\n",
       "    <tr>\n",
       "      <th>2</th>\n",
       "      <td>2</td>\n",
       "      <td>Why the Truth Might Get You Fired</td>\n",
       "      <td>Consortiumnews.com</td>\n",
       "      <td>Why the Truth Might Get You Fired October 29, ...</td>\n",
       "      <td>1</td>\n",
       "    </tr>\n",
       "    <tr>\n",
       "      <th>3</th>\n",
       "      <td>3</td>\n",
       "      <td>15 Civilians Killed In Single US Airstrike Hav...</td>\n",
       "      <td>Jessica Purkiss</td>\n",
       "      <td>Videos 15 Civilians Killed In Single US Airstr...</td>\n",
       "      <td>1</td>\n",
       "    </tr>\n",
       "    <tr>\n",
       "      <th>4</th>\n",
       "      <td>4</td>\n",
       "      <td>Iranian woman jailed for fictional unpublished...</td>\n",
       "      <td>Howard Portnoy</td>\n",
       "      <td>Print \\nAn Iranian woman has been sentenced to...</td>\n",
       "      <td>1</td>\n",
       "    </tr>\n",
       "  </tbody>\n",
       "</table>\n",
       "</div>"
      ],
      "text/plain": [
       "   id                                              title              author  \\\n",
       "0   0  House Dem Aide: We Didn’t Even See Comey’s Let...       Darrell Lucus   \n",
       "1   1  FLYNN: Hillary Clinton, Big Woman on Campus - ...     Daniel J. Flynn   \n",
       "2   2                  Why the Truth Might Get You Fired  Consortiumnews.com   \n",
       "3   3  15 Civilians Killed In Single US Airstrike Hav...     Jessica Purkiss   \n",
       "4   4  Iranian woman jailed for fictional unpublished...      Howard Portnoy   \n",
       "\n",
       "                                                text  label  \n",
       "0  House Dem Aide: We Didn’t Even See Comey’s Let...      1  \n",
       "1  Ever get the feeling your life circles the rou...      0  \n",
       "2  Why the Truth Might Get You Fired October 29, ...      1  \n",
       "3  Videos 15 Civilians Killed In Single US Airstr...      1  \n",
       "4  Print \\nAn Iranian woman has been sentenced to...      1  "
      ]
     },
     "execution_count": 2,
     "metadata": {},
     "output_type": "execute_result"
    }
   ],
   "source": [
    "df = pd.read_csv('./Data/FakeNewsData.csv')\n",
    "\n",
    "df.head()"
   ]
  },
  {
   "cell_type": "code",
   "execution_count": 3,
   "id": "9e77478f-99cb-4219-b1dc-1986d17a131b",
   "metadata": {},
   "outputs": [],
   "source": [
    "# Drop Nan values\n",
    "df = df.dropna()"
   ]
  },
  {
   "cell_type": "code",
   "execution_count": 4,
   "id": "698c5e2d-4a37-4174-b739-5228f9a88224",
   "metadata": {},
   "outputs": [],
   "source": [
    "# Get independent features\n",
    "X = df.drop('label', axis = 1)"
   ]
  },
  {
   "cell_type": "code",
   "execution_count": 5,
   "id": "72c82c42-5b9d-4854-8d80-6ef98f0b6fad",
   "metadata": {},
   "outputs": [],
   "source": [
    "# Get dependent features\n",
    "y = df['label']"
   ]
  },
  {
   "cell_type": "code",
   "execution_count": 6,
   "id": "d1487505-c5b4-4f84-a803-f7c2d8a79c31",
   "metadata": {},
   "outputs": [
    {
     "data": {
      "text/plain": [
       "(18285, 4)"
      ]
     },
     "execution_count": 6,
     "metadata": {},
     "output_type": "execute_result"
    }
   ],
   "source": [
    "X.shape"
   ]
  },
  {
   "cell_type": "code",
   "execution_count": 7,
   "id": "cf7db185-a135-4ab3-aee3-fcecea244a4a",
   "metadata": {},
   "outputs": [],
   "source": [
    "import tensorflow as tf\n",
    "from tensorflow.keras.layers import Embedding\n",
    "from tensorflow.keras.preprocessing.sequence import pad_sequences\n",
    "from tensorflow.keras.models import Sequential\n",
    "from tensorflow.keras.preprocessing.text import one_hot\n",
    "from tensorflow.keras.layers import LSTM,Dense"
   ]
  },
  {
   "cell_type": "code",
   "execution_count": 8,
   "id": "6128e7ea-1d32-4574-aa08-fb4e139361fd",
   "metadata": {},
   "outputs": [],
   "source": [
    "# Vocabulary size\n",
    "vocab_size = 10000"
   ]
  },
  {
   "cell_type": "markdown",
   "id": "7c05581a-f586-4770-bccc-8a2bb054f7db",
   "metadata": {},
   "source": [
    "## Onehot Representation"
   ]
  },
  {
   "cell_type": "code",
   "execution_count": 9,
   "id": "ea2ba39b-3633-459a-89dd-de0c83f13461",
   "metadata": {},
   "outputs": [
    {
     "data": {
      "text/html": [
       "<div>\n",
       "<style scoped>\n",
       "    .dataframe tbody tr th:only-of-type {\n",
       "        vertical-align: middle;\n",
       "    }\n",
       "\n",
       "    .dataframe tbody tr th {\n",
       "        vertical-align: top;\n",
       "    }\n",
       "\n",
       "    .dataframe thead th {\n",
       "        text-align: right;\n",
       "    }\n",
       "</style>\n",
       "<table border=\"1\" class=\"dataframe\">\n",
       "  <thead>\n",
       "    <tr style=\"text-align: right;\">\n",
       "      <th></th>\n",
       "      <th>index</th>\n",
       "      <th>id</th>\n",
       "      <th>title</th>\n",
       "      <th>author</th>\n",
       "      <th>text</th>\n",
       "    </tr>\n",
       "  </thead>\n",
       "  <tbody>\n",
       "    <tr>\n",
       "      <th>0</th>\n",
       "      <td>0</td>\n",
       "      <td>0</td>\n",
       "      <td>House Dem Aide: We Didn’t Even See Comey’s Let...</td>\n",
       "      <td>Darrell Lucus</td>\n",
       "      <td>House Dem Aide: We Didn’t Even See Comey’s Let...</td>\n",
       "    </tr>\n",
       "    <tr>\n",
       "      <th>1</th>\n",
       "      <td>1</td>\n",
       "      <td>1</td>\n",
       "      <td>FLYNN: Hillary Clinton, Big Woman on Campus - ...</td>\n",
       "      <td>Daniel J. Flynn</td>\n",
       "      <td>Ever get the feeling your life circles the rou...</td>\n",
       "    </tr>\n",
       "    <tr>\n",
       "      <th>2</th>\n",
       "      <td>2</td>\n",
       "      <td>2</td>\n",
       "      <td>Why the Truth Might Get You Fired</td>\n",
       "      <td>Consortiumnews.com</td>\n",
       "      <td>Why the Truth Might Get You Fired October 29, ...</td>\n",
       "    </tr>\n",
       "    <tr>\n",
       "      <th>3</th>\n",
       "      <td>3</td>\n",
       "      <td>3</td>\n",
       "      <td>15 Civilians Killed In Single US Airstrike Hav...</td>\n",
       "      <td>Jessica Purkiss</td>\n",
       "      <td>Videos 15 Civilians Killed In Single US Airstr...</td>\n",
       "    </tr>\n",
       "    <tr>\n",
       "      <th>4</th>\n",
       "      <td>4</td>\n",
       "      <td>4</td>\n",
       "      <td>Iranian woman jailed for fictional unpublished...</td>\n",
       "      <td>Howard Portnoy</td>\n",
       "      <td>Print \\nAn Iranian woman has been sentenced to...</td>\n",
       "    </tr>\n",
       "  </tbody>\n",
       "</table>\n",
       "</div>"
      ],
      "text/plain": [
       "   index  id                                              title  \\\n",
       "0      0   0  House Dem Aide: We Didn’t Even See Comey’s Let...   \n",
       "1      1   1  FLYNN: Hillary Clinton, Big Woman on Campus - ...   \n",
       "2      2   2                  Why the Truth Might Get You Fired   \n",
       "3      3   3  15 Civilians Killed In Single US Airstrike Hav...   \n",
       "4      4   4  Iranian woman jailed for fictional unpublished...   \n",
       "\n",
       "               author                                               text  \n",
       "0       Darrell Lucus  House Dem Aide: We Didn’t Even See Comey’s Let...  \n",
       "1     Daniel J. Flynn  Ever get the feeling your life circles the rou...  \n",
       "2  Consortiumnews.com  Why the Truth Might Get You Fired October 29, ...  \n",
       "3     Jessica Purkiss  Videos 15 Civilians Killed In Single US Airstr...  \n",
       "4      Howard Portnoy  Print \\nAn Iranian woman has been sentenced to...  "
      ]
     },
     "execution_count": 9,
     "metadata": {},
     "output_type": "execute_result"
    }
   ],
   "source": [
    "messages = X.copy()\n",
    "messages.reset_index(inplace = True)\n",
    "\n",
    "messages.head()"
   ]
  },
  {
   "cell_type": "code",
   "execution_count": 10,
   "id": "2ab5a11b-bc34-4826-a5f6-c88613219f91",
   "metadata": {},
   "outputs": [
    {
     "name": "stderr",
     "output_type": "stream",
     "text": [
      "[nltk_data] Downloading package stopwords to\n",
      "[nltk_data]     C:\\Users\\Ciya\\AppData\\Roaming\\nltk_data...\n",
      "[nltk_data]   Package stopwords is already up-to-date!\n"
     ]
    },
    {
     "data": {
      "text/plain": [
       "True"
      ]
     },
     "execution_count": 10,
     "metadata": {},
     "output_type": "execute_result"
    }
   ],
   "source": [
    "import nltk\n",
    "import re\n",
    "from nltk.corpus import stopwords\n",
    "\n",
    "nltk.download('stopwords')"
   ]
  },
  {
   "cell_type": "code",
   "execution_count": 11,
   "id": "26e6aa9f-ba9c-4afd-b21e-49557e9093db",
   "metadata": {},
   "outputs": [],
   "source": [
    "# Data Preprocessing\n",
    "from nltk.stem import WordNetLemmatizer\n",
    "lemmatizer = WordNetLemmatizer()\n",
    "corpus = []\n",
    "for i in range(len(messages)):\n",
    "    review = re.sub('[^a-zA-Z]',' ',messages['text'][i])\n",
    "    review = review.lower().split()\n",
    "    review = [lemmatizer.lemmatize(word) for word in review if word not in stopwords.words('english')]\n",
    "    review = ' '.join(review)\n",
    "    corpus.append(review)"
   ]
  },
  {
   "cell_type": "code",
   "execution_count": 12,
   "id": "f2f52cfa-d2fb-4dbb-8376-1488ed398781",
   "metadata": {
    "scrolled": true
   },
   "outputs": [],
   "source": [
    "onehot_repr = [one_hot(words,vocab_size) for words in corpus]"
   ]
  },
  {
   "cell_type": "code",
   "execution_count": 19,
   "id": "edc1ddbf-1fd6-4552-b41c-42f9de357dad",
   "metadata": {},
   "outputs": [
    {
     "data": {
      "text/plain": [
       "464"
      ]
     },
     "execution_count": 19,
     "metadata": {},
     "output_type": "execute_result"
    }
   ],
   "source": [
    "len(corpus[0].split())"
   ]
  },
  {
   "cell_type": "code",
   "execution_count": 22,
   "id": "fb376304-e96d-496d-a7d7-c3cea8c56352",
   "metadata": {},
   "outputs": [
    {
     "data": {
      "text/plain": [
       "469"
      ]
     },
     "execution_count": 22,
     "metadata": {},
     "output_type": "execute_result"
    }
   ],
   "source": [
    "len(onehot_repr[0])"
   ]
  },
  {
   "cell_type": "code",
   "execution_count": null,
   "id": "6e5d90a0-ab3d-4771-b453-bf131a99ea2f",
   "metadata": {
    "scrolled": true
   },
   "outputs": [],
   "source": [
    "(onehot_repr[0])"
   ]
  },
  {
   "cell_type": "code",
   "execution_count": 14,
   "id": "d6e8477a-e2b8-46fd-8509-92cf33d874af",
   "metadata": {},
   "outputs": [
    {
     "data": {
      "text/plain": [
       "(18285, 18285)"
      ]
     },
     "execution_count": 14,
     "metadata": {},
     "output_type": "execute_result"
    }
   ],
   "source": [
    "len(corpus), len(onehot_repr)"
   ]
  },
  {
   "cell_type": "code",
   "execution_count": 15,
   "id": "411a6cbc-af95-4002-98ba-3e95449acfa3",
   "metadata": {
    "scrolled": true
   },
   "outputs": [
    {
     "data": {
      "text/plain": [
       "142961"
      ]
     },
     "execution_count": 15,
     "metadata": {},
     "output_type": "execute_result"
    }
   ],
   "source": [
    "max_len = 0\n",
    "txt = ''\n",
    "for i in range(len(corpus)):\n",
    "    if len(corpus[i]) > max_len:\n",
    "        max_len = len(corpus[i])\n",
    "        txt = corpus[i]\n",
    "max_len"
   ]
  },
  {
   "cell_type": "code",
   "execution_count": 16,
   "id": "b46f905b-c34c-4484-8f90-ddb84aeae563",
   "metadata": {},
   "outputs": [
    {
     "data": {
      "text/plain": [
       "21002"
      ]
     },
     "execution_count": 16,
     "metadata": {},
     "output_type": "execute_result"
    }
   ],
   "source": [
    "max_len = 0\n",
    "txt = ''\n",
    "for i in range(len(onehot_repr)):\n",
    "    if len(onehot_repr[i]) > max_len:\n",
    "        max_len = len(onehot_repr[i])\n",
    "        txt = onehot_repr[i]\n",
    "max_len"
   ]
  },
  {
   "cell_type": "markdown",
   "id": "24bba6af-8ed4-4291-94d6-8452bbd44ec3",
   "metadata": {},
   "source": [
    "## Embedding Representation"
   ]
  },
  {
   "cell_type": "code",
   "execution_count": null,
   "id": "bd81faf9-8cbb-4001-a25d-bf575ea4581f",
   "metadata": {},
   "outputs": [],
   "source": [
    "sent_length = max_len\n",
    "embedded_docs = pad_sequences(onehot_repr,padding='pre',maxlen=sent_length)"
   ]
  },
  {
   "cell_type": "code",
   "execution_count": null,
   "id": "51704c91-7399-49db-b5db-1f07d69c4ac4",
   "metadata": {},
   "outputs": [],
   "source": [
    "embedded_docs[78]"
   ]
  },
  {
   "cell_type": "code",
   "execution_count": null,
   "id": "f380d1c4-d22f-4185-a2ae-7108222af151",
   "metadata": {},
   "outputs": [],
   "source": [
    "# Creating the model\n",
    "embedding_vector_features = 40\n",
    "model = Sequential()\n",
    "model.add(Embedding(input_dim = vocab_size,\n",
    "                    output_dim = embedding_vector_features,\n",
    "                    input_length = sent_length))\n",
    "model.add(LSTM(100))\n",
    "model.add(Dense(1,\n",
    "                activation = 'sigmoid'))\n",
    "model.compile(loss = 'binary_crossentropy',\n",
    "              optimizer = 'adam',\n",
    "              metrics = ['accuracy'])\n",
    "print(model.summary())"
   ]
  },
  {
   "cell_type": "code",
   "execution_count": null,
   "id": "8eab39f3-371f-4856-b973-dcddde8ee221",
   "metadata": {},
   "outputs": [],
   "source": [
    "len(embedded_docs), y.shape"
   ]
  },
  {
   "cell_type": "code",
   "execution_count": null,
   "id": "c8d40cac-58e9-4867-a510-c07b14d05606",
   "metadata": {},
   "outputs": [],
   "source": [
    "import numpy as np\n",
    "from scipy import sparse\n",
    "from tensorflow.keras.callbacks import EarlyStopping"
   ]
  },
  {
   "cell_type": "code",
   "execution_count": null,
   "id": "a6c11716-278c-483b-8c97-2e471f943b13",
   "metadata": {},
   "outputs": [],
   "source": [
    "\"\"\"# Convert your dense array - embedded_docs into a sparse matrix\n",
    "X_final = sparse.csr_matrix(embedded_docs)\n",
    "\n",
    "# Convert targt labels to sparse matrix if needed, but it seems it's not needed in here\n",
    "y_final = sparse.csr_matrix(y)\"\"\""
   ]
  },
  {
   "cell_type": "code",
   "execution_count": null,
   "id": "12a0061c-61b3-4593-9920-bc859b857ab7",
   "metadata": {},
   "outputs": [],
   "source": [
    "X_final = np.array(embedded_docs)\n",
    "y_final = np.array(y)"
   ]
  },
  {
   "cell_type": "code",
   "execution_count": null,
   "id": "7207419b-4349-41b6-8e0d-7b6ee9d39ae9",
   "metadata": {},
   "outputs": [],
   "source": [
    "X_final.shape, y_final.shape, y.shape"
   ]
  },
  {
   "cell_type": "code",
   "execution_count": null,
   "id": "ee9f5fc8-45a3-44db-8aa6-33c30a51535f",
   "metadata": {},
   "outputs": [],
   "source": [
    "from sklearn.model_selection import train_test_split\n",
    "\n",
    "X_train,X_test,y_train,y_test = train_test_split(X_final,y_final,test_size=0.33,random_state=42)"
   ]
  },
  {
   "cell_type": "code",
   "execution_count": null,
   "id": "5bc3e8f2-c4ff-4f89-ae1b-bf1fdae10127",
   "metadata": {},
   "outputs": [],
   "source": [
    "\"\"\"# Convert data into sparse format to save memory\n",
    "X_train_sparse = sparse.csr_matrix(X_train)\n",
    "X_test_sparse = sparse.csr_matrix(X_test)\"\"\""
   ]
  },
  {
   "cell_type": "code",
   "execution_count": null,
   "id": "cfb9e318-e682-4838-b461-8904430dc680",
   "metadata": {},
   "outputs": [],
   "source": [
    "\"\"\"X_train_sparse.shape, X_train.shape, X_test_sparse.shape, X_test.shape  \n",
    "## It's not changed after sparse matrix application since it's been already applied\"\"\""
   ]
  },
  {
   "cell_type": "code",
   "execution_count": null,
   "id": "9d7b6c17-0f2f-495a-8238-427b7e2c4dbd",
   "metadata": {},
   "outputs": [],
   "source": [
    "\"\"\"# Define data generator for sparse data\n",
    "def data_generator(X_sparse, y, batch_size):\n",
    "    dataset_size = X_sparse.shape[0]\n",
    "    while True:\n",
    "        for i in range(0,dataset_size,batch_size):\n",
    "            X_batch = X_sparse[i:i+batch_size].toarray() # Convert sparse to dense on the fly\n",
    "            y_batch = y[i:i+batch_size]\n",
    "            yield X_batch,y_batch\"\"\""
   ]
  },
  {
   "cell_type": "markdown",
   "id": "8c72f62b-abba-4b2d-87b6-d668f0428621",
   "metadata": {},
   "source": [
    "## Model Training"
   ]
  },
  {
   "cell_type": "code",
   "execution_count": null,
   "id": "dad5e590-0552-4f15-849f-0da909479033",
   "metadata": {},
   "outputs": [],
   "source": [
    "\"\"\"# Batch size for training\n",
    "batch_size = 32\n",
    "\n",
    "# Create data generators for training and validation\n",
    "train_generator = data_generator(X_train_sparse,y_train,batch_size)\n",
    "validation_generator = data_generator(X_test_sparse,y_test,batch_size)\"\"\""
   ]
  },
  {
   "cell_type": "code",
   "execution_count": null,
   "id": "c9142a01-d5ec-4dcc-9b26-4109c2558efa",
   "metadata": {},
   "outputs": [],
   "source": [
    "\"\"\"# Use early stopping to prevent overfitting\n",
    "early_stopping = EarlyStopping(monitor = 'val_loss',patience = 3)\n",
    "\n",
    "# Train the model with data generators\n",
    "steps_per_epoch = X_train_sparse.shape[0] // batch_size\n",
    "validation_steps = X_test_sparse.shape[0] // batch_size\"\"\""
   ]
  },
  {
   "cell_type": "code",
   "execution_count": null,
   "id": "3d329347-acb4-4f12-9bf3-1b7a940466b7",
   "metadata": {},
   "outputs": [],
   "source": [
    "\"\"\"# Train the model\n",
    "with tf.device('/GPU:0'):  # Explicitly run on GPU\n",
    "    model.fit(train_generator,\n",
    "              validation_data = validation_generator,\n",
    "              steps_per_epoch = steps_per_epoch,\n",
    "              validation_steps = validation_steps,\n",
    "              epochs = 10,\n",
    "              callbacks = [early_stopping],\n",
    "              verbose = 1)\"\"\""
   ]
  },
  {
   "cell_type": "code",
   "execution_count": null,
   "id": "f7d80b39-026d-41f2-aa59-ef110931439c",
   "metadata": {},
   "outputs": [],
   "source": [
    "# Train the model \n",
    "with tf.device('/GPU:0'):  # Explicitly run on GPU\n",
    "    model.fit(X_train,y_train,validation_data=(X_test,y_test),epochs=10,batch_size=64)"
   ]
  },
  {
   "cell_type": "markdown",
   "id": "53b5ffc6-0618-4225-8d9f-dcfbaf2bc726",
   "metadata": {},
   "source": [
    "## Adding Dropout"
   ]
  },
  {
   "cell_type": "code",
   "execution_count": null,
   "id": "dfd38d9d-1009-4416-b529-6ebbfcd3476a",
   "metadata": {},
   "outputs": [],
   "source": [
    "from tensorflow.keras.layers import Dropout\n",
    "\n",
    "# Creating the model\n",
    "embedding_vector_features = 40\n",
    "model = Sequential()\n",
    "model.add(Embedding(input_dim = voc_size,\n",
    "                    output_dim = embedding_vector_features,\n",
    "                    input_length = sent_length))\n",
    "model.add(Dropout(0.3))\n",
    "model.add(LSTM(100))\n",
    "model.add(Dropout(0.3))\n",
    "model.add(Dense(1,activation = 'sigmoid'))\n",
    "model.compile(loss = 'binary_crossentropy',\n",
    "              optimizer = 'adam',\n",
    "              metrics = ['accuracy'])\n",
    "print(model.summary())"
   ]
  },
  {
   "cell_type": "markdown",
   "id": "64d69619-392f-4a1c-92a8-1541d8a23ffa",
   "metadata": {},
   "source": [
    "## Train the model after regularization"
   ]
  },
  {
   "cell_type": "code",
   "execution_count": null,
   "id": "f6cd270f-7bfe-4d0e-9a01-9be9077ec88a",
   "metadata": {},
   "outputs": [],
   "source": [
    "# Train the model \n",
    "with tf.device('/GPU:0'):  # Explicitly run on GPU\n",
    "    model.fit(X_train,y_train,validation_data=(X_test,y_test),epochs=10,batch_size=64)"
   ]
  },
  {
   "cell_type": "markdown",
   "id": "f5837da8-50a7-4ca3-9fb1-2365f389b447",
   "metadata": {},
   "source": [
    "## Performace Metrics and Accuracy"
   ]
  },
  {
   "cell_type": "code",
   "execution_count": null,
   "id": "d0b3b83b-c62d-40d7-9ff0-13a41c565852",
   "metadata": {},
   "outputs": [],
   "source": [
    "y_pred = model.predict_classes(X_test)"
   ]
  },
  {
   "cell_type": "code",
   "execution_count": null,
   "id": "6feb9996-cf27-449b-882b-cec97b4c7f30",
   "metadata": {},
   "outputs": [],
   "source": [
    "from sklearn.metrics import confusion_matrix, accuracy_score"
   ]
  },
  {
   "cell_type": "code",
   "execution_count": null,
   "id": "383d40e6-48f0-4da9-bae8-6b33282ccb88",
   "metadata": {},
   "outputs": [],
   "source": [
    "confusion_matrix(y_test,y_pred)"
   ]
  },
  {
   "cell_type": "code",
   "execution_count": null,
   "id": "68f82834-a525-47e9-8946-965aaed63f43",
   "metadata": {},
   "outputs": [],
   "source": [
    "accuracy_score(y_test,y_pred)"
   ]
  }
 ],
 "metadata": {
  "kernelspec": {
   "display_name": "Python 3 (ipykernel)",
   "language": "python",
   "name": "python3"
  },
  "language_info": {
   "codemirror_mode": {
    "name": "ipython",
    "version": 3
   },
   "file_extension": ".py",
   "mimetype": "text/x-python",
   "name": "python",
   "nbconvert_exporter": "python",
   "pygments_lexer": "ipython3",
   "version": "3.9.20"
  }
 },
 "nbformat": 4,
 "nbformat_minor": 5
}
