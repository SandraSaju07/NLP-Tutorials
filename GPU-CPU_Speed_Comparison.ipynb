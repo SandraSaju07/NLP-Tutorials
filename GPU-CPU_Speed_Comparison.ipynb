{
 "cells": [
  {
   "cell_type": "code",
   "execution_count": null,
   "id": "767ab15b-f582-4da1-ad63-57af86d6d936",
   "metadata": {},
   "outputs": [],
   "source": [
    "import tensorflow as tf\n",
    "import time\n",
    "\n",
    "# Define a TensorFlow operation\n",
    "def my_operation(x):\n",
    "    return tf.reduce_sum(tf.square(x))\n",
    "\n",
    "# Create a large tensor for the operation\n",
    "x = tf.random.normal([1000000000])\n",
    "\n",
    "# Run the operation on CPU\n",
    "with tf.device('/CPU:0'):\n",
    "    cpu_start_time = time.time()\n",
    "    cpu_result = my_operation(x)\n",
    "    cpu_end_time = time.time()\n",
    "    cpu_time = cpu_end_time - cpu_start_time\n",
    "\n",
    "# Run the operation on GPU (if available)\n",
    "with tf.device('/GPU:0'):\n",
    "    gpu_start_time = time.time()\n",
    "    gpu_result = my_operation(x)\n",
    "    gpu_end_time = time.time()\n",
    "    gpu_time = gpu_end_time - gpu_start_time\n",
    "\n",
    "    print(\"CPU time:\", cpu_time)\n",
    "    print(\"GPU time:\", gpu_time)\n",
    "    print(\"Speedup:\", cpu_time / gpu_time)\n"
   ]
  },
  {
   "cell_type": "code",
   "execution_count": null,
   "id": "6cb9d74b-4c96-4038-b674-aa264002d347",
   "metadata": {},
   "outputs": [],
   "source": []
  }
 ],
 "metadata": {
  "kernelspec": {
   "display_name": "Python 3 (ipykernel)",
   "language": "python",
   "name": "python3"
  },
  "language_info": {
   "codemirror_mode": {
    "name": "ipython",
    "version": 3
   },
   "file_extension": ".py",
   "mimetype": "text/x-python",
   "name": "python",
   "nbconvert_exporter": "python",
   "pygments_lexer": "ipython3",
   "version": "3.9.20"
  }
 },
 "nbformat": 4,
 "nbformat_minor": 5
}
