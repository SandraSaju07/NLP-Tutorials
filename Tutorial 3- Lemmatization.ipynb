{
 "cells": [
  {
   "cell_type": "code",
   "execution_count": 1,
   "id": "0f43a2c0",
   "metadata": {},
   "outputs": [],
   "source": [
    "import nltk\n",
    "from nltk.stem import WordNetLemmatizer\n",
    "from nltk.corpus import stopwords"
   ]
  },
  {
   "cell_type": "code",
   "execution_count": 2,
   "id": "cf23384b",
   "metadata": {},
   "outputs": [],
   "source": [
    "paragraph = \"\"\"The Natural Language Toolkit, or more commonly NLTK, is a suite of libraries and programs for symbolic and \n",
    "statistical natural language processing (NLP) for English written in the Python programming language. It supports \n",
    "classification, tokenization, stemming, tagging, parsing, and semantic reasoning functionalities.[4] It was developed \n",
    "by Steven Bird and Edward Loper in the Department of Computer and Information Science at the University of Pennsylvania.\n",
    "[5] NLTK includes graphical demonstrations and sample data. It is accompanied by a book that explains the underlying \n",
    "concepts behind the language processing tasks supported by the toolkit,[6] plus a cookbook.[7]\n",
    "\n",
    "NLTK is intended to support research and teaching in NLP or closely related areas, including empirical linguistics, \n",
    "cognitive science, artificial intelligence, information retrieval, and machine learning.[8] NLTK has been used \n",
    "successfully as a teaching tool, as an individual study tool, and as a platform for prototyping and building research \n",
    "systems. There are 32 universities in the US and 25 countries using NLTK in their courses.\n",
    "\"\"\""
   ]
  },
  {
   "cell_type": "code",
   "execution_count": 4,
   "id": "f18a0b35",
   "metadata": {},
   "outputs": [],
   "source": [
    "sentences = nltk.sent_tokenize(paragraph)\n",
    "lemmatizer = WordNetLemmatizer()"
   ]
  },
  {
   "cell_type": "code",
   "execution_count": 5,
   "id": "e8340bfd",
   "metadata": {},
   "outputs": [
    {
     "name": "stdout",
     "output_type": "stream",
     "text": [
      "['The', 'Natural', 'Language', 'Toolkit', ',', 'commonly', 'NLTK', ',', 'suite', 'library', 'program', 'symbolic', 'statistical', 'natural', 'language', 'processing', '(', 'NLP', ')', 'English', 'written', 'Python', 'programming', 'language', '.']\n",
      "['It', 'support', 'classification', ',', 'tokenization', ',', 'stemming', ',', 'tagging', ',', 'parsing', ',', 'semantic', 'reasoning', 'functionality', '.']\n",
      "['[', '4', ']', 'It', 'developed', 'Steven', 'Bird', 'Edward', 'Loper', 'Department', 'Computer', 'Information', 'Science', 'University', 'Pennsylvania', '.']\n",
      "['[', '5', ']', 'NLTK', 'includes', 'graphical', 'demonstration', 'sample', 'data', '.']\n",
      "['It', 'accompanied', 'book', 'explains', 'underlying', 'concept', 'behind', 'language', 'processing', 'task', 'supported', 'toolkit', ',', '[', '6', ']', 'plus', 'cookbook', '.']\n",
      "['[', '7', ']', 'NLTK', 'intended', 'support', 'research', 'teaching', 'NLP', 'closely', 'related', 'area', ',', 'including', 'empirical', 'linguistics', ',', 'cognitive', 'science', ',', 'artificial', 'intelligence', ',', 'information', 'retrieval', ',', 'machine', 'learning', '.']\n",
      "['[', '8', ']', 'NLTK', 'used', 'successfully', 'teaching', 'tool', ',', 'individual', 'study', 'tool', ',', 'platform', 'prototyping', 'building', 'research', 'system', '.']\n",
      "['There', '32', 'university', 'US', '25', 'country', 'using', 'NLTK', 'course', '.']\n"
     ]
    }
   ],
   "source": [
    "for i in range(len(sentences)):\n",
    "    words = nltk.word_tokenize(sentences[i])\n",
    "    words = [lemmatizer.lemmatize(word) for word in words if word not in set(stopwords.words('english'))]\n",
    "    print(words)\n",
    "    sentences[i] = ' '.join(words)"
   ]
  },
  {
   "cell_type": "code",
   "execution_count": 6,
   "id": "07c4ec8d",
   "metadata": {},
   "outputs": [
    {
     "data": {
      "text/plain": [
       "['The Natural Language Toolkit , commonly NLTK , suite library program symbolic statistical natural language processing ( NLP ) English written Python programming language .',\n",
       " 'It support classification , tokenization , stemming , tagging , parsing , semantic reasoning functionality .',\n",
       " '[ 4 ] It developed Steven Bird Edward Loper Department Computer Information Science University Pennsylvania .',\n",
       " '[ 5 ] NLTK includes graphical demonstration sample data .',\n",
       " 'It accompanied book explains underlying concept behind language processing task supported toolkit , [ 6 ] plus cookbook .',\n",
       " '[ 7 ] NLTK intended support research teaching NLP closely related area , including empirical linguistics , cognitive science , artificial intelligence , information retrieval , machine learning .',\n",
       " '[ 8 ] NLTK used successfully teaching tool , individual study tool , platform prototyping building research system .',\n",
       " 'There 32 university US 25 country using NLTK course .']"
      ]
     },
     "execution_count": 6,
     "metadata": {},
     "output_type": "execute_result"
    }
   ],
   "source": [
    "sentences"
   ]
  },
  {
   "cell_type": "code",
   "execution_count": null,
   "id": "490ccb3a",
   "metadata": {},
   "outputs": [],
   "source": []
  }
 ],
 "metadata": {
  "kernelspec": {
   "display_name": "Python 3 (ipykernel)",
   "language": "python",
   "name": "python3"
  },
  "language_info": {
   "codemirror_mode": {
    "name": "ipython",
    "version": 3
   },
   "file_extension": ".py",
   "mimetype": "text/x-python",
   "name": "python",
   "nbconvert_exporter": "python",
   "pygments_lexer": "ipython3",
   "version": "3.9.13"
  }
 },
 "nbformat": 4,
 "nbformat_minor": 5
}
