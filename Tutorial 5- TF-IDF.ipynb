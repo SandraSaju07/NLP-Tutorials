{
 "cells": [
  {
   "cell_type": "code",
   "execution_count": 1,
   "id": "f2a11634-4c42-45bf-9486-e794e06456dd",
   "metadata": {},
   "outputs": [],
   "source": [
    "import nltk"
   ]
  },
  {
   "cell_type": "code",
   "execution_count": 2,
   "id": "0cfde4f2-e2c0-442b-9b92-125aa068ab00",
   "metadata": {},
   "outputs": [],
   "source": [
    "paragraph = \"\"\"The Natural Language Toolkit, or more commonly NLTK, is a suite of libraries and programs for symbolic and \n",
    "statistical natural language processing (NLP) for English written in the Python programming language. It supports \n",
    "classification, tokenization, stemming, tagging, parsing, and semantic reasoning functionalities.[4] It was developed \n",
    "by Steven Bird and Edward Loper in the Department of Computer and Information Science at the University of Pennsylvania.\n",
    "[5] NLTK includes graphical demonstrations and sample data. It is accompanied by a book that explains the underlying \n",
    "concepts behind the language processing tasks supported by the toolkit,[6] plus a cookbook.[7]\n",
    "\n",
    "NLTK is intended to support research and teaching in NLP or closely related areas, including empirical linguistics, \n",
    "cognitive science, artificial intelligence, information retrieval, and machine learning.[8] NLTK has been used \n",
    "successfully as a teaching tool, as an individual study tool, and as a platform for prototyping and building research \n",
    "systems. There are 32 universities in the US and 25 countries using NLTK in their courses.\n",
    "\"\"\""
   ]
  },
  {
   "cell_type": "code",
   "execution_count": 3,
   "id": "9da60200-c14a-4c28-be51-1db68b3aca18",
   "metadata": {},
   "outputs": [],
   "source": [
    "import re\n",
    "from nltk.corpus import stopwords\n",
    "from nltk.stem import PorterStemmer\n",
    "from nltk.stem import WordNetLemmatizer"
   ]
  },
  {
   "cell_type": "code",
   "execution_count": 4,
   "id": "f5bbcc7e-6403-421a-9c67-c2a22439455e",
   "metadata": {},
   "outputs": [],
   "source": [
    "stemmer = PorterStemmer()\n",
    "lemmatizer = WordNetLemmatizer()\n",
    "sentences = nltk.sent_tokenize(paragraph)"
   ]
  },
  {
   "cell_type": "code",
   "execution_count": 5,
   "id": "6e286d6c-fbcc-4166-8324-600b7224ba78",
   "metadata": {},
   "outputs": [
    {
     "data": {
      "text/plain": [
       "['The Natural Language Toolkit, or more commonly NLTK, is a suite of libraries and programs for symbolic and \\nstatistical natural language processing (NLP) for English written in the Python programming language.',\n",
       " 'It supports \\nclassification, tokenization, stemming, tagging, parsing, and semantic reasoning functionalities.',\n",
       " '[4] It was developed \\nby Steven Bird and Edward Loper in the Department of Computer and Information Science at the University of Pennsylvania.',\n",
       " '[5] NLTK includes graphical demonstrations and sample data.',\n",
       " 'It is accompanied by a book that explains the underlying \\nconcepts behind the language processing tasks supported by the toolkit,[6] plus a cookbook.',\n",
       " '[7]\\n\\nNLTK is intended to support research and teaching in NLP or closely related areas, including empirical linguistics, \\ncognitive science, artificial intelligence, information retrieval, and machine learning.',\n",
       " '[8] NLTK has been used \\nsuccessfully as a teaching tool, as an individual study tool, and as a platform for prototyping and building research \\nsystems.',\n",
       " 'There are 32 universities in the US and 25 countries using NLTK in their courses.']"
      ]
     },
     "execution_count": 5,
     "metadata": {},
     "output_type": "execute_result"
    }
   ],
   "source": [
    "sentences"
   ]
  },
  {
   "cell_type": "code",
   "execution_count": 7,
   "id": "87908f39-e671-48f6-99b3-a6cb3412dc57",
   "metadata": {},
   "outputs": [],
   "source": [
    "corpus = []\n",
    "for i in range(len(sentences)):\n",
    "    review = re.sub('[^a-zA-Z]',' ',sentences[i])\n",
    "    review = review.lower()\n",
    "    review = review.split()\n",
    "    review = [stemmer.stem(word) for word in review if word not in set(stopwords.words('english'))]\n",
    "    review = ' '.join(review)\n",
    "    corpus.append(review)"
   ]
  },
  {
   "cell_type": "code",
   "execution_count": 8,
   "id": "6b2bc758-d952-4939-80b3-3f6c5a1f91c6",
   "metadata": {},
   "outputs": [
    {
     "data": {
      "text/plain": [
       "['natur languag toolkit commonli nltk suit librari program symbol statist natur languag process nlp english written python program languag',\n",
       " 'support classif token stem tag pars semant reason function',\n",
       " 'develop steven bird edward loper depart comput inform scienc univers pennsylvania',\n",
       " 'nltk includ graphic demonstr sampl data',\n",
       " 'accompani book explain underli concept behind languag process task support toolkit plu cookbook',\n",
       " 'nltk intend support research teach nlp close relat area includ empir linguist cognit scienc artifici intellig inform retriev machin learn',\n",
       " 'nltk use success teach tool individu studi tool platform prototyp build research system',\n",
       " 'univers us countri use nltk cours']"
      ]
     },
     "execution_count": 8,
     "metadata": {},
     "output_type": "execute_result"
    }
   ],
   "source": [
    "corpus"
   ]
  },
  {
   "cell_type": "code",
   "execution_count": 11,
   "id": "671baf44-9c72-4c0c-b2bf-8e98ae9580f3",
   "metadata": {},
   "outputs": [],
   "source": [
    "corpus = []\n",
    "for i in range(len(sentences)):\n",
    "    review = re.sub('[^a-zA-Z]',' ',sentences[i])\n",
    "    review = review.lower()\n",
    "    review = review.split()\n",
    "    review = [lemmatizer.lemmatize(word) for word in review if word not in set(stopwords.words('english'))]\n",
    "    review = ' '.join(review)\n",
    "    corpus.append(review)"
   ]
  },
  {
   "cell_type": "code",
   "execution_count": 12,
   "id": "176865b8-2232-4175-8c55-f8ddcab20349",
   "metadata": {},
   "outputs": [
    {
     "data": {
      "text/plain": [
       "['natural language toolkit commonly nltk suite library program symbolic statistical natural language processing nlp english written python programming language',\n",
       " 'support classification tokenization stemming tagging parsing semantic reasoning functionality',\n",
       " 'developed steven bird edward loper department computer information science university pennsylvania',\n",
       " 'nltk includes graphical demonstration sample data',\n",
       " 'accompanied book explains underlying concept behind language processing task supported toolkit plus cookbook',\n",
       " 'nltk intended support research teaching nlp closely related area including empirical linguistics cognitive science artificial intelligence information retrieval machine learning',\n",
       " 'nltk used successfully teaching tool individual study tool platform prototyping building research system',\n",
       " 'university u country using nltk course']"
      ]
     },
     "execution_count": 12,
     "metadata": {},
     "output_type": "execute_result"
    }
   ],
   "source": [
    "corpus"
   ]
  },
  {
   "cell_type": "code",
   "execution_count": 13,
   "id": "7a39b59c-e707-480a-a518-0a2e7e855795",
   "metadata": {},
   "outputs": [],
   "source": [
    "# Creating the TF-IDF model (Term Frequency - Inverse Document Frequency)\n",
    "from sklearn.feature_extraction.text import TfidfVectorizer\n",
    "tfidf = TfidfVectorizer()\n",
    "X = tfidf.fit_transform(corpus).toarray()"
   ]
  },
  {
   "cell_type": "code",
   "execution_count": 14,
   "id": "2934d922-6c7a-4a7a-99f3-6e0a07f86025",
   "metadata": {},
   "outputs": [
    {
     "data": {
      "text/plain": [
       "array([[0.        , 0.        , 0.        , 0.        , 0.        ,\n",
       "        0.        , 0.        , 0.        , 0.        , 0.        ,\n",
       "        0.20968682, 0.        , 0.        , 0.        , 0.        ,\n",
       "        0.        , 0.        , 0.        , 0.        , 0.        ,\n",
       "        0.        , 0.        , 0.20968682, 0.        , 0.        ,\n",
       "        0.        , 0.        , 0.        , 0.        , 0.        ,\n",
       "        0.        , 0.        , 0.52720176, 0.        , 0.20968682,\n",
       "        0.        , 0.        , 0.        , 0.41937364, 0.17573392,\n",
       "        0.11769106, 0.        , 0.        , 0.        , 0.        ,\n",
       "        0.17573392, 0.20968682, 0.20968682, 0.        , 0.20968682,\n",
       "        0.        , 0.        , 0.        , 0.        , 0.        ,\n",
       "        0.        , 0.        , 0.20968682, 0.        , 0.        ,\n",
       "        0.        , 0.        , 0.20968682, 0.        , 0.        ,\n",
       "        0.20968682, 0.        , 0.        , 0.        , 0.        ,\n",
       "        0.        , 0.        , 0.17573392, 0.        , 0.        ,\n",
       "        0.        , 0.        , 0.20968682],\n",
       "       [0.        , 0.        , 0.        , 0.        , 0.        ,\n",
       "        0.        , 0.        , 0.33898549, 0.        , 0.        ,\n",
       "        0.        , 0.        , 0.        , 0.        , 0.        ,\n",
       "        0.        , 0.        , 0.        , 0.        , 0.        ,\n",
       "        0.        , 0.        , 0.        , 0.        , 0.33898549,\n",
       "        0.        , 0.        , 0.        , 0.        , 0.        ,\n",
       "        0.        , 0.        , 0.        , 0.        , 0.        ,\n",
       "        0.        , 0.        , 0.        , 0.        , 0.        ,\n",
       "        0.        , 0.33898549, 0.        , 0.        , 0.        ,\n",
       "        0.        , 0.        , 0.        , 0.        , 0.        ,\n",
       "        0.33898549, 0.        , 0.        , 0.        , 0.        ,\n",
       "        0.        , 0.33898549, 0.        , 0.33898549, 0.        ,\n",
       "        0.        , 0.        , 0.        , 0.2840963 , 0.        ,\n",
       "        0.        , 0.        , 0.33898549, 0.        , 0.        ,\n",
       "        0.33898549, 0.        , 0.        , 0.        , 0.        ,\n",
       "        0.        , 0.        , 0.        ],\n",
       "       [0.        , 0.        , 0.        , 0.        , 0.31454747,\n",
       "        0.        , 0.        , 0.        , 0.        , 0.        ,\n",
       "        0.        , 0.31454747, 0.        , 0.        , 0.        ,\n",
       "        0.        , 0.        , 0.        , 0.31454747, 0.31454747,\n",
       "        0.31454747, 0.        , 0.        , 0.        , 0.        ,\n",
       "        0.        , 0.        , 0.        , 0.        , 0.26361533,\n",
       "        0.        , 0.        , 0.        , 0.        , 0.        ,\n",
       "        0.        , 0.31454747, 0.        , 0.        , 0.        ,\n",
       "        0.        , 0.        , 0.31454747, 0.        , 0.        ,\n",
       "        0.        , 0.        , 0.        , 0.        , 0.        ,\n",
       "        0.        , 0.        , 0.        , 0.        , 0.        ,\n",
       "        0.26361533, 0.        , 0.        , 0.        , 0.31454747,\n",
       "        0.        , 0.        , 0.        , 0.        , 0.        ,\n",
       "        0.        , 0.        , 0.        , 0.        , 0.        ,\n",
       "        0.        , 0.        , 0.        , 0.        , 0.26361533,\n",
       "        0.        , 0.        , 0.        ],\n",
       "       [0.        , 0.        , 0.        , 0.        , 0.        ,\n",
       "        0.        , 0.        , 0.        , 0.        , 0.        ,\n",
       "        0.        , 0.        , 0.        , 0.        , 0.        ,\n",
       "        0.        , 0.43375786, 0.43375786, 0.        , 0.        ,\n",
       "        0.        , 0.        , 0.        , 0.        , 0.        ,\n",
       "        0.43375786, 0.43375786, 0.        , 0.        , 0.        ,\n",
       "        0.        , 0.        , 0.        , 0.        , 0.        ,\n",
       "        0.        , 0.        , 0.        , 0.        , 0.        ,\n",
       "        0.24345555, 0.        , 0.        , 0.        , 0.        ,\n",
       "        0.        , 0.        , 0.        , 0.        , 0.        ,\n",
       "        0.        , 0.        , 0.        , 0.        , 0.43375786,\n",
       "        0.        , 0.        , 0.        , 0.        , 0.        ,\n",
       "        0.        , 0.        , 0.        , 0.        , 0.        ,\n",
       "        0.        , 0.        , 0.        , 0.        , 0.        ,\n",
       "        0.        , 0.        , 0.        , 0.        , 0.        ,\n",
       "        0.        , 0.        , 0.        ],\n",
       "       [0.28739519, 0.        , 0.        , 0.28739519, 0.        ,\n",
       "        0.28739519, 0.        , 0.        , 0.        , 0.        ,\n",
       "        0.        , 0.        , 0.28739519, 0.28739519, 0.        ,\n",
       "        0.        , 0.        , 0.        , 0.        , 0.        ,\n",
       "        0.        , 0.        , 0.        , 0.28739519, 0.        ,\n",
       "        0.        , 0.        , 0.        , 0.        , 0.        ,\n",
       "        0.        , 0.        , 0.2408596 , 0.        , 0.        ,\n",
       "        0.        , 0.        , 0.        , 0.        , 0.        ,\n",
       "        0.        , 0.        , 0.        , 0.        , 0.28739519,\n",
       "        0.2408596 , 0.        , 0.        , 0.        , 0.        ,\n",
       "        0.        , 0.        , 0.        , 0.        , 0.        ,\n",
       "        0.        , 0.        , 0.        , 0.        , 0.        ,\n",
       "        0.        , 0.        , 0.        , 0.        , 0.28739519,\n",
       "        0.        , 0.        , 0.        , 0.28739519, 0.        ,\n",
       "        0.        , 0.        , 0.2408596 , 0.28739519, 0.        ,\n",
       "        0.        , 0.        , 0.        ],\n",
       "       [0.        , 0.23884604, 0.23884604, 0.        , 0.        ,\n",
       "        0.        , 0.        , 0.        , 0.23884604, 0.23884604,\n",
       "        0.        , 0.        , 0.        , 0.        , 0.        ,\n",
       "        0.        , 0.        , 0.        , 0.        , 0.        ,\n",
       "        0.        , 0.23884604, 0.        , 0.        , 0.        ,\n",
       "        0.        , 0.        , 0.23884604, 0.        , 0.20017162,\n",
       "        0.23884604, 0.23884604, 0.        , 0.23884604, 0.        ,\n",
       "        0.23884604, 0.        , 0.23884604, 0.        , 0.20017162,\n",
       "        0.13405727, 0.        , 0.        , 0.        , 0.        ,\n",
       "        0.        , 0.        , 0.        , 0.        , 0.        ,\n",
       "        0.        , 0.23884604, 0.20017162, 0.23884604, 0.        ,\n",
       "        0.20017162, 0.        , 0.        , 0.        , 0.        ,\n",
       "        0.        , 0.        , 0.        , 0.20017162, 0.        ,\n",
       "        0.        , 0.        , 0.        , 0.        , 0.20017162,\n",
       "        0.        , 0.        , 0.        , 0.        , 0.        ,\n",
       "        0.        , 0.        , 0.        ],\n",
       "       [0.        , 0.        , 0.        , 0.        , 0.        ,\n",
       "        0.        , 0.26997684, 0.        , 0.        , 0.        ,\n",
       "        0.        , 0.        , 0.        , 0.        , 0.        ,\n",
       "        0.        , 0.        , 0.        , 0.        , 0.        ,\n",
       "        0.        , 0.        , 0.        , 0.        , 0.        ,\n",
       "        0.        , 0.        , 0.        , 0.26997684, 0.        ,\n",
       "        0.        , 0.        , 0.        , 0.        , 0.        ,\n",
       "        0.        , 0.        , 0.        , 0.        , 0.        ,\n",
       "        0.15153007, 0.        , 0.        , 0.26997684, 0.        ,\n",
       "        0.        , 0.        , 0.        , 0.26997684, 0.        ,\n",
       "        0.        , 0.        , 0.22626167, 0.        , 0.        ,\n",
       "        0.        , 0.        , 0.        , 0.        , 0.        ,\n",
       "        0.26997684, 0.26997684, 0.        , 0.        , 0.        ,\n",
       "        0.        , 0.26997684, 0.        , 0.        , 0.22626167,\n",
       "        0.        , 0.53995369, 0.        , 0.        , 0.        ,\n",
       "        0.26997684, 0.        , 0.        ],\n",
       "       [0.        , 0.        , 0.        , 0.        , 0.        ,\n",
       "        0.        , 0.        , 0.        , 0.        , 0.        ,\n",
       "        0.        , 0.        , 0.        , 0.        , 0.49891606,\n",
       "        0.49891606, 0.        , 0.        , 0.        , 0.        ,\n",
       "        0.        , 0.        , 0.        , 0.        , 0.        ,\n",
       "        0.        , 0.        , 0.        , 0.        , 0.        ,\n",
       "        0.        , 0.        , 0.        , 0.        , 0.        ,\n",
       "        0.        , 0.        , 0.        , 0.        , 0.        ,\n",
       "        0.28002694, 0.        , 0.        , 0.        , 0.        ,\n",
       "        0.        , 0.        , 0.        , 0.        , 0.        ,\n",
       "        0.        , 0.        , 0.        , 0.        , 0.        ,\n",
       "        0.        , 0.        , 0.        , 0.        , 0.        ,\n",
       "        0.        , 0.        , 0.        , 0.        , 0.        ,\n",
       "        0.        , 0.        , 0.        , 0.        , 0.        ,\n",
       "        0.        , 0.        , 0.        , 0.        , 0.4181306 ,\n",
       "        0.        , 0.49891606, 0.        ]])"
      ]
     },
     "execution_count": 14,
     "metadata": {},
     "output_type": "execute_result"
    }
   ],
   "source": [
    "X"
   ]
  },
  {
   "cell_type": "code",
   "execution_count": 15,
   "id": "f6e4730c-398f-4d41-a8ea-812f6234ad7d",
   "metadata": {},
   "outputs": [
    {
     "data": {
      "text/plain": [
       "8"
      ]
     },
     "execution_count": 15,
     "metadata": {},
     "output_type": "execute_result"
    }
   ],
   "source": [
    "len(X)"
   ]
  },
  {
   "cell_type": "code",
   "execution_count": 16,
   "id": "941a8977-6985-4439-ae6d-714197ccd050",
   "metadata": {},
   "outputs": [
    {
     "data": {
      "text/plain": [
       "78"
      ]
     },
     "execution_count": 16,
     "metadata": {},
     "output_type": "execute_result"
    }
   ],
   "source": [
    "len(X[0])"
   ]
  },
  {
   "cell_type": "code",
   "execution_count": 17,
   "id": "3736634a-d5a6-4b02-9085-a2c103c1c7fe",
   "metadata": {},
   "outputs": [
    {
     "data": {
      "text/plain": [
       "array([0.        , 0.        , 0.        , 0.        , 0.        ,\n",
       "       0.        , 0.        , 0.        , 0.        , 0.        ,\n",
       "       0.20968682, 0.        , 0.        , 0.        , 0.        ,\n",
       "       0.        , 0.        , 0.        , 0.        , 0.        ,\n",
       "       0.        , 0.        , 0.20968682, 0.        , 0.        ,\n",
       "       0.        , 0.        , 0.        , 0.        , 0.        ,\n",
       "       0.        , 0.        , 0.52720176, 0.        , 0.20968682,\n",
       "       0.        , 0.        , 0.        , 0.41937364, 0.17573392,\n",
       "       0.11769106, 0.        , 0.        , 0.        , 0.        ,\n",
       "       0.17573392, 0.20968682, 0.20968682, 0.        , 0.20968682,\n",
       "       0.        , 0.        , 0.        , 0.        , 0.        ,\n",
       "       0.        , 0.        , 0.20968682, 0.        , 0.        ,\n",
       "       0.        , 0.        , 0.20968682, 0.        , 0.        ,\n",
       "       0.20968682, 0.        , 0.        , 0.        , 0.        ,\n",
       "       0.        , 0.        , 0.17573392, 0.        , 0.        ,\n",
       "       0.        , 0.        , 0.20968682])"
      ]
     },
     "execution_count": 17,
     "metadata": {},
     "output_type": "execute_result"
    }
   ],
   "source": [
    "X[0]"
   ]
  },
  {
   "cell_type": "code",
   "execution_count": null,
   "id": "298c2d08-26ec-40a1-a63a-6805fb155282",
   "metadata": {},
   "outputs": [],
   "source": []
  }
 ],
 "metadata": {
  "kernelspec": {
   "display_name": "Python 3 (ipykernel)",
   "language": "python",
   "name": "python3"
  },
  "language_info": {
   "codemirror_mode": {
    "name": "ipython",
    "version": 3
   },
   "file_extension": ".py",
   "mimetype": "text/x-python",
   "name": "python",
   "nbconvert_exporter": "python",
   "pygments_lexer": "ipython3",
   "version": "3.9.19"
  }
 },
 "nbformat": 4,
 "nbformat_minor": 5
}
