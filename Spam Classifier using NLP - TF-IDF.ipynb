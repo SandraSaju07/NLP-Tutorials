{
 "cells": [
  {
   "cell_type": "code",
   "execution_count": 43,
   "id": "ca7ba5ea-8414-4882-95c1-14317a2de59e",
   "metadata": {},
   "outputs": [
    {
     "name": "stderr",
     "output_type": "stream",
     "text": [
      "[nltk_data] Downloading package stopwords to\n",
      "[nltk_data]     C:\\Users\\Ciya\\AppData\\Roaming\\nltk_data...\n",
      "[nltk_data]   Package stopwords is already up-to-date!\n"
     ]
    }
   ],
   "source": [
    "# Import the required libraries\n",
    "import pandas as pd\n",
    "import re\n",
    "import nltk\n",
    "from nltk.corpus import stopwords\n",
    "from nltk.stem import WordNetLemmatizer\n",
    "nltk.download('stopwords')\n",
    "\n",
    "# Reading the csv file\n",
    "messages = pd.read_csv('./Data/SpamData',sep='\\t',\n",
    "                      names = ['label','message'])\n",
    "\n",
    "# Initialize stemmer\n",
    "lemmatizer = WordNetLemmatizer()\n",
    "\n",
    "# Data cleaning and preprocessing\n",
    "corpus = []\n",
    "for i in range(len(messages)):\n",
    "    review = re.sub('[^a-zA-Z]',' ',messages['message'][i])\n",
    "    review = review.lower()\n",
    "    review = review.split()\n",
    "    review = [lemmatizer.lemmatize(word) for word in review if word not in stopwords.words('english')]\n",
    "    review = ' '.join(review)\n",
    "    corpus.append(review)\n",
    "\n",
    "# Creating TF-IDF vectorizer model \n",
    "from sklearn.feature_extraction.text import TfidfVectorizer\n",
    "tfidf = TfidfVectorizer()\n",
    "X = tfidf.fit_transform(corpus).toarray()\n",
    "\n",
    "# Creaing dummies for label\n",
    "y = pd.get_dummies(messages['label'])\n",
    "y = y.iloc[:,1].values.ravel()\n",
    "\n",
    "# Handle imbalanced data\n",
    "from imblearn.over_sampling import SMOTE\n",
    "smote = SMOTE()\n",
    "X_res,y_res = smote.fit_resample(X,y)\n",
    "\n",
    "# Spliting data into train and test\n",
    "from sklearn.model_selection import train_test_split\n",
    "X_train,X_test,y_train,y_test = train_test_split(X_res,y_res,test_size=0.2,random_state=0)\n",
    "\n",
    "# Training the model using Naive Bayes calsssifier\n",
    "from sklearn.naive_bayes import MultinomialNB\n",
    "clf = MultinomialNB()\n",
    "clf.fit(X_train,y_train)\n",
    "\n",
    "# Prediting the trained model \n",
    "y_pred = clf.predict(X_test)\n",
    "\n",
    "# Calculating the prediction accuracy\n",
    "from sklearn.metrics import accuracy_score,confusion_matrix\n",
    "accuracy = accuracy_score(y_test,y_pred)\n",
    "conf_mat = confusion_matrix(y_test,y_pred)"
   ]
  },
  {
   "cell_type": "code",
   "execution_count": 44,
   "id": "b1e46c78-9b86-4620-99b1-41304ac21f07",
   "metadata": {},
   "outputs": [
    {
     "data": {
      "text/plain": [
       "array([[917,  25],\n",
       "       [  6, 982]], dtype=int64)"
      ]
     },
     "execution_count": 44,
     "metadata": {},
     "output_type": "execute_result"
    }
   ],
   "source": [
    "conf_mat"
   ]
  },
  {
   "cell_type": "code",
   "execution_count": 45,
   "id": "329d7267-271e-46ba-95d2-aa68d82badd4",
   "metadata": {},
   "outputs": [
    {
     "data": {
      "text/plain": [
       "0.9839378238341969"
      ]
     },
     "execution_count": 45,
     "metadata": {},
     "output_type": "execute_result"
    }
   ],
   "source": [
    "accuracy"
   ]
  },
  {
   "cell_type": "code",
   "execution_count": null,
   "id": "c4058927-1c6e-421b-bf4e-3caaf944757a",
   "metadata": {},
   "outputs": [],
   "source": []
  }
 ],
 "metadata": {
  "kernelspec": {
   "display_name": "Python 3 (ipykernel)",
   "language": "python",
   "name": "python3"
  },
  "language_info": {
   "codemirror_mode": {
    "name": "ipython",
    "version": 3
   },
   "file_extension": ".py",
   "mimetype": "text/x-python",
   "name": "python",
   "nbconvert_exporter": "python",
   "pygments_lexer": "ipython3",
   "version": "3.9.19"
  }
 },
 "nbformat": 4,
 "nbformat_minor": 5
}
